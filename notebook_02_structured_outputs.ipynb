{
 "cells": [
  {
   "cell_type": "markdown",
   "metadata": {},
   "source": [
    "# Building LLM applications: Notebook 02\n",
    "# Structured outputs"
   ]
  },
  {
   "cell_type": "markdown",
   "metadata": {},
   "source": [
    "## Initialize"
   ]
  },
  {
   "cell_type": "code",
   "execution_count": 1,
   "metadata": {},
   "outputs": [],
   "source": [
    "import os\n",
    "import dotenv\n",
    "import json\n",
    "\n",
    "from langchain_ollama import ChatOllama\n",
    "from langchain_core.prompts import PromptTemplate, ChatPromptTemplate\n",
    "from langchain_core.output_parsers import JsonOutputParser"
   ]
  },
  {
   "cell_type": "code",
   "execution_count": 2,
   "metadata": {},
   "outputs": [],
   "source": [
    "MODEL = 'llama3.2:3b-instruct-fp16'"
   ]
  },
  {
   "cell_type": "code",
   "execution_count": 3,
   "metadata": {},
   "outputs": [
    {
     "name": "stdout",
     "output_type": "stream",
     "text": [
      "Using Ollama server: http://kqrw311-g5-12xlarge-a.img.astrazeneca.net:8080\n"
     ]
    }
   ],
   "source": [
    "# Read fro `.env` file\n",
    "dotenv.load_dotenv()\n",
    "\n",
    "OLLAMA_URL = os.getenv('OLLAMA_URL')\n",
    "print(f\"Using Ollama server: {OLLAMA_URL if OLLAMA_URL else 'local'}\")"
   ]
  },
  {
   "cell_type": "markdown",
   "metadata": {},
   "source": [
    "## Excercise 01: Structured outputs in `system` prompt (JSON)"
   ]
  },
  {
   "cell_type": "code",
   "execution_count": 12,
   "metadata": {},
   "outputs": [
    {
     "name": "stdout",
     "output_type": "stream",
     "text": [
      "```\n",
      "{\n",
      "  \"top_programming_languages\": [\n",
      "    {\n",
      "      \"rank\": 1,\n",
      "      \"language\": \"JavaScript\",\n",
      "      \"percentage\": \"19.42%\"\n",
      "    },\n",
      "    {\n",
      "      \"rank\": 2,\n",
      "      \"language\": \"Python\",\n",
      "      \"percentage\": \"17.57%\"\n",
      "    },\n",
      "    {\n",
      "      \"rank\": 3,\n",
      "      \"language\": \"Java\",\n",
      "      \"percentage\": \"9.44%\"\n",
      "    }\n",
      "  ]\n",
      "}\n",
      "```\n",
      "==================================\u001b[1m Ai Message \u001b[0m==================================\n",
      "\n",
      "```\n",
      "{\n",
      "  \"top_programming_languages\": [\n",
      "    {\n",
      "      \"rank\": 1,\n",
      "      \"language\": \"JavaScript\",\n",
      "      \"percentage\": \"19.42%\"\n",
      "    },\n",
      "    {\n",
      "      \"rank\": 2,\n",
      "      \"language\": \"Python\",\n",
      "      \"percentage\": \"17.57%\"\n",
      "    },\n",
      "    {\n",
      "      \"rank\": 3,\n",
      "      \"language\": \"Java\",\n",
      "      \"percentage\": \"9.44%\"\n",
      "    }\n",
      "  ]\n",
      "}\n",
      "```\n"
     ]
    }
   ],
   "source": [
    "messages_template = [\n",
    "    ('system', \"Answer the user's question in JSON format\"),\n",
    "    ('human', \"{question}\")\n",
    "]\n",
    "\n",
    "llm = ChatOllama(model=MODEL, base_url=OLLAMA_URL)\n",
    "prompt = ChatPromptTemplate.from_messages(messages=messages_template)\n",
    "runnable = prompt | llm\n",
    "\n",
    "# Run the 'runnable'\n",
    "ret = runnable.invoke({\"question\": \"What are the top 3 most popular programming languages?\"})\n",
    "ret.pretty_print()"
   ]
  },
  {
   "cell_type": "markdown",
   "metadata": {},
   "source": [
    "## Excercise 02: Structured outputs (`format=\"JSON\"`)"
   ]
  },
  {
   "cell_type": "code",
   "execution_count": 5,
   "metadata": {},
   "outputs": [],
   "source": [
    "prompt_template = \"\"\"\n",
    "Please answer the following question:\n",
    "\n",
    "{question}\n",
    "\n",
    "\"\"\""
   ]
  },
  {
   "cell_type": "code",
   "execution_count": 13,
   "metadata": {},
   "outputs": [
    {
     "name": "stdout",
     "output_type": "stream",
     "text": [
      "==================================\u001b[1m Ai Message \u001b[0m==================================\n",
      "\n",
      "{\n",
      "  \"2022\": \"Python is the leading language, followed by JavaScript and Java\",\n",
      "  \"2021\": \"JavaScript took the top spot, followed by Python and C++\",\n",
      "  \"2020\": \"Python was the clear leader in popularity, with JavaScript and Java following closely behind\"\n",
      "\n",
      "}\n"
     ]
    }
   ],
   "source": [
    "llm = ChatOllama(model=MODEL\n",
    "                 , base_url=OLLAMA_URL\n",
    "                 , format=\"json\"        # Set the format to JSON\n",
    "                 )\n",
    "prompt = PromptTemplate.from_template(prompt_template)\n",
    "runnable = prompt | llm\n",
    "\n",
    "# Run the 'runnable'\n",
    "ret = runnable.invoke({\"question\": \"What are the top 3 most popular programming languages?\"})\n",
    "ret.pretty_print()"
   ]
  },
  {
   "cell_type": "markdown",
   "metadata": {},
   "source": [
    "## Excercise 03: Structured outputs (Pydantic model)"
   ]
  },
  {
   "cell_type": "code",
   "execution_count": 7,
   "metadata": {},
   "outputs": [
    {
     "data": {
      "text/plain": [
       "{'$defs': {'LanguageType': {'enum': ['compiled', 'interpreted'],\n",
       "   'title': 'LanguageType',\n",
       "   'type': 'string'},\n",
       "  'ProgrammingLanguage': {'properties': {'rank': {'title': 'Rank',\n",
       "     'type': 'integer'},\n",
       "    'name': {'title': 'Name', 'type': 'string'},\n",
       "    'type': {'$ref': '#/$defs/LanguageType'}},\n",
       "   'required': ['rank', 'name', 'type'],\n",
       "   'title': 'ProgrammingLanguage',\n",
       "   'type': 'object'}},\n",
       " 'properties': {'languages': {'items': {'$ref': '#/$defs/ProgrammingLanguage'},\n",
       "   'title': 'Languages',\n",
       "   'type': 'array'}},\n",
       " 'required': ['languages'],\n",
       " 'title': 'ProgrammingLanguages',\n",
       " 'type': 'object'}"
      ]
     },
     "execution_count": 7,
     "metadata": {},
     "output_type": "execute_result"
    }
   ],
   "source": [
    "# Create the LLM object\n",
    "from pydantic import BaseModel\n",
    "from enum import Enum\n",
    "\n",
    "\n",
    "class LanguageType(Enum):\n",
    "    COMPILED = \"compiled\"\n",
    "    INTERPRETED = \"interpreted\"\n",
    "\n",
    "\n",
    "class ProgrammingLanguage(BaseModel):\n",
    "    rank: int\n",
    "    name: str\n",
    "    type: LanguageType\n",
    "\n",
    "\n",
    "class ProgrammingLanguages(BaseModel):\n",
    "    languages: list[ProgrammingLanguage]\n",
    "\n",
    "\n",
    "ProgrammingLanguages.model_json_schema()"
   ]
  },
  {
   "cell_type": "code",
   "execution_count": 14,
   "metadata": {},
   "outputs": [
    {
     "name": "stdout",
     "output_type": "stream",
     "text": [
      "==================================\u001b[1m Ai Message \u001b[0m==================================\n",
      "\n",
      "{\n",
      "  \"languages\": [\n",
      "    {\n",
      "      \"rank\": 1,\n",
      "      \"name\": \"JavaScript\"\n",
      "    ,\"type\": \"interpreted\"\n",
      "    },\n",
      "    {\n",
      "      \"rank\": 2,\n",
      "      \"name\": \"Python\",\n",
      "      \"type\":\"interpreted\"\n",
      "    },\n",
      "    {\n",
      "      \"rank\": 3,\n",
      "      \"name\": \"Java\",\n",
      "      \"type\":\"compiled\" }\n",
      "]\n",
      "}\n"
     ]
    }
   ],
   "source": [
    "llm = ChatOllama(model=MODEL\n",
    "                 , base_url=OLLAMA_URL\n",
    "                 , format=ProgrammingLanguages.model_json_schema()  # Set the format usning a Pydantic Schema\n",
    "                )\n",
    "prompt = PromptTemplate.from_template(prompt_template)\n",
    "runnable = prompt | llm\n",
    "\n",
    "# Run the 'runnable'\n",
    "ret = runnable.invoke({\"question\": \"What are the top 3 most popular programming languages?\"})\n",
    "ret.pretty_print()"
   ]
  },
  {
   "cell_type": "markdown",
   "metadata": {},
   "source": [
    "## Excercise 04: LLM with structured outputs `llm.with_structured_output(...)`"
   ]
  },
  {
   "cell_type": "code",
   "execution_count": 18,
   "metadata": {},
   "outputs": [
    {
     "name": "stdout",
     "output_type": "stream",
     "text": [
      "Return type: <class 'dict'>\n",
      "Content: {'languages': ['Python', 'Java', 'JavaScript']}\n"
     ]
    }
   ],
   "source": [
    "llm = ChatOllama(model=MODEL, base_url=OLLAMA_URL)\n",
    "llm_structured = llm.with_structured_output(ProgrammingLanguages.model_json_schema())\n",
    "prompt = PromptTemplate.from_template(prompt_template)\n",
    "runnable = prompt | llm_structured\n",
    "\n",
    "# Run the 'runnable'\n",
    "ret = runnable.invoke({\"question\": \"What are the top 3 most popular programming languages?\"})\n",
    "print(f\"Return type: {type(ret)}\\nContent: {ret}\")"
   ]
  },
  {
   "cell_type": "markdown",
   "metadata": {},
   "source": [
    "## Excercise 05: Output parsers (JSON)"
   ]
  },
  {
   "cell_type": "code",
   "execution_count": 10,
   "metadata": {},
   "outputs": [
    {
     "name": "stdout",
     "output_type": "stream",
     "text": [
      "Return type: <class 'dict'>\n",
      "Content: {}\n"
     ]
    }
   ],
   "source": [
    "llm = ChatOllama(model=MODEL, base_url=OLLAMA_URL, format=\"json\")\n",
    "prompt = PromptTemplate.from_template(prompt_template)\n",
    "parser = JsonOutputParser()\n",
    "runnable = prompt | llm | parser\n",
    "\n",
    "# Run the 'runnable'\n",
    "ret = runnable.invoke({\"question\": \"What are the top 3 most popular programming languages?\"})\n",
    "print(f\"Return type: {type(ret)}\\nContent: {json.dumps(ret, indent=2)}\")"
   ]
  },
  {
   "cell_type": "markdown",
   "metadata": {},
   "source": [
    "## Excercise 06: Output parsers (Pydantic)"
   ]
  },
  {
   "cell_type": "code",
   "execution_count": 11,
   "metadata": {},
   "outputs": [
    {
     "name": "stdout",
     "output_type": "stream",
     "text": [
      "Return type: <class 'dict'>\n",
      "Content: {\n",
      "  \"languages\": [\n",
      "    {\n",
      "      \"rank\": 1,\n",
      "      \"name\": \"JavaScript\",\n",
      "      \"type\": \"interpreted\"\n",
      "    },\n",
      "    {\n",
      "      \"rank\": 2,\n",
      "      \"name\": \"Python\",\n",
      "      \"type\": \"interpreted\"\n",
      "    },\n",
      "    {\n",
      "      \"rank\": 3,\n",
      "      \"name\": \"Java\",\n",
      "      \"type\": \"compiled\"\n",
      "    }\n",
      "  ]\n",
      "}\n",
      "Type: <class '__main__.ProgrammingLanguages'>\n",
      "Object: languages=[ProgrammingLanguage(rank=1, name='JavaScript', type=<LanguageType.INTERPRETED: 'interpreted'>), ProgrammingLanguage(rank=2, name='Python', type=<LanguageType.INTERPRETED: 'interpreted'>), ProgrammingLanguage(rank=3, name='Java', type=<LanguageType.COMPILED: 'compiled'>)]\n"
     ]
    }
   ],
   "source": [
    "llm = ChatOllama(model=MODEL\n",
    "                 , base_url=OLLAMA_URL\n",
    "                 , format=ProgrammingLanguages.model_json_schema()\n",
    "                 )\n",
    "prompt = PromptTemplate.from_template(prompt_template)\n",
    "parser = JsonOutputParser(pydantic_object=ProgrammingLanguages)\n",
    "runnable = prompt | llm | parser\n",
    "\n",
    "# Run the 'runnable'\n",
    "ret = runnable.invoke({\"question\": \"What are the top 3 most popular programming languages?\"})\n",
    "print(f\"Return type: {type(ret)}\\nContent: {json.dumps(ret, indent=2)}\")\n",
    "\n",
    "# Create the Pydantic object\n",
    "object = ProgrammingLanguages(**ret)\n",
    "print(f\"Type: {type(object)}\\nObject: {object}\")"
   ]
  }
 ],
 "metadata": {
  "kernelspec": {
   "display_name": ".venv",
   "language": "python",
   "name": "python3"
  },
  "language_info": {
   "codemirror_mode": {
    "name": "ipython",
    "version": 3
   },
   "file_extension": ".py",
   "mimetype": "text/x-python",
   "name": "python",
   "nbconvert_exporter": "python",
   "pygments_lexer": "ipython3",
   "version": "3.12.2"
  }
 },
 "nbformat": 4,
 "nbformat_minor": 2
}
