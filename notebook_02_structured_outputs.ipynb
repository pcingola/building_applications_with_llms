{
 "cells": [
  {
   "cell_type": "markdown",
   "metadata": {},
   "source": [
    "# Building LLM applications: Notebook 02\n",
    "# Structured outputs"
   ]
  },
  {
   "cell_type": "markdown",
   "metadata": {},
   "source": [
    "## Initialize"
   ]
  },
  {
   "cell_type": "code",
   "execution_count": 1,
   "metadata": {},
   "outputs": [],
   "source": [
    "import os\n",
    "import dotenv\n",
    "import json\n",
    "\n",
    "from langchain_ollama import ChatOllama\n",
    "from langchain_core.prompts import PromptTemplate, ChatPromptTemplate\n",
    "from langchain_core.output_parsers import JsonOutputParser"
   ]
  },
  {
   "cell_type": "code",
   "execution_count": 2,
   "metadata": {},
   "outputs": [],
   "source": [
    "MODEL = 'llama3.2:3b-instruct-fp16'"
   ]
  },
  {
   "cell_type": "code",
   "execution_count": 3,
   "metadata": {},
   "outputs": [
    {
     "name": "stdout",
     "output_type": "stream",
     "text": [
      "Using Ollama server: http://kqrw311-g5-12xlarge-a.img.astrazeneca.net:8080\n"
     ]
    }
   ],
   "source": [
    "# Read fro `.env` file\n",
    "dotenv.load_dotenv()\n",
    "\n",
    "OLLAMA_URL = os.getenv('OLLAMA_URL')\n",
    "print(f\"Using Ollama server: {OLLAMA_URL if OLLAMA_URL else 'local'}\")"
   ]
  },
  {
   "cell_type": "markdown",
   "metadata": {},
   "source": [
    "## Example: Structured outputs in `system` prompt (JSON)"
   ]
  },
  {
   "cell_type": "code",
   "execution_count": 4,
   "metadata": {},
   "outputs": [
    {
     "name": "stdout",
     "output_type": "stream",
     "text": [
      "==================================\u001b[1m Ai Message \u001b[0m==================================\n",
      "\n",
      "```\n",
      "{\n",
      "  \"result\": [\n",
      "    {\n",
      "      \"rank\": 1,\n",
      "      \"name\": \"JavaScript\",\n",
      "      \"popularity\": 17.12\n",
      "    },\n",
      "    {\n",
      "      \"rank\": 2,\n",
      "      \"name\": \"Python\",\n",
      "      \"popularity\": 9.48\n",
      "    },\n",
      "    {\n",
      "      \"rank\": 3,\n",
      "      \"name\": \"Java\",\n",
      "      \"popularity\": 8.97\n",
      "    }\n",
      "  ]\n",
      "}\n",
      "```\n",
      "\n",
      "Note: The popularity ranking is based on TIOBE Index, a programming language index that measures the popularity of programming languages.\n",
      "\n",
      "Source: TIOBE Index (December 2022)\n"
     ]
    }
   ],
   "source": [
    "messages_template = [\n",
    "    ('system', \"Answer the user's question in JSON format\"),\n",
    "    ('human', \"{question}\")\n",
    "]\n",
    "\n",
    "llm = ChatOllama(model=MODEL, base_url=OLLAMA_URL)\n",
    "prompt = ChatPromptTemplate.from_messages(messages=messages_template)\n",
    "runnable = prompt | llm\n",
    "\n",
    "# Run the 'runnable'\n",
    "ret = runnable.invoke({\"question\": \"What are the top 3 most popular programming languages?\"})\n",
    "ret.pretty_print()"
   ]
  },
  {
   "cell_type": "markdown",
   "metadata": {},
   "source": [
    "## Excercise: Structured outputs (`format=\"JSON\"`)\n",
    "\n",
    "Create an LLM using \n",
    "```\n",
    "llm = ChatOllama(..., format=\"json\")\n",
    "```\n",
    "\n",
    "Then invoke it and show the results\n"
   ]
  },
  {
   "cell_type": "code",
   "execution_count": 5,
   "metadata": {},
   "outputs": [],
   "source": [
    "prompt_template = \"\"\"\n",
    "Please answer the following question:\n",
    "\n",
    "{question}\n",
    "\n",
    "\"\"\""
   ]
  },
  {
   "cell_type": "code",
   "execution_count": 12,
   "metadata": {},
   "outputs": [],
   "source": [
    "# ADD YOUR CODE HERE\n",
    "#\n",
    "#\n",
    "\n"
   ]
  }
 ],
 "metadata": {
  "kernelspec": {
   "display_name": ".venv",
   "language": "python",
   "name": "python3"
  },
  "language_info": {
   "codemirror_mode": {
    "name": "ipython",
    "version": 3
   },
   "file_extension": ".py",
   "mimetype": "text/x-python",
   "name": "python",
   "nbconvert_exporter": "python",
   "pygments_lexer": "ipython3",
   "version": "3.12.2"
  }
 },
 "nbformat": 4,
 "nbformat_minor": 2
}
