{
 "cells": [
  {
   "cell_type": "markdown",
   "metadata": {},
   "source": [
    "# Building LLM applications: Notebook 01"
   ]
  },
  {
   "cell_type": "markdown",
   "metadata": {},
   "source": [
    "## Initialize"
   ]
  },
  {
   "cell_type": "code",
   "execution_count": 13,
   "metadata": {},
   "outputs": [],
   "source": [
    "import os\n",
    "import dotenv\n",
    "\n",
    "from langchain_ollama import ChatOllama\n",
    "from langchain_core.prompts import PromptTemplate"
   ]
  },
  {
   "cell_type": "code",
   "execution_count": 11,
   "metadata": {},
   "outputs": [],
   "source": [
    "MODEL = 'llama3.2'"
   ]
  },
  {
   "cell_type": "code",
   "execution_count": 12,
   "metadata": {},
   "outputs": [
    {
     "name": "stdout",
     "output_type": "stream",
     "text": [
      "Using Ollama server: local\n"
     ]
    }
   ],
   "source": [
    "# Read fro `.env` file\n",
    "dotenv.load_dotenv()\n",
    "\n",
    "OLLAMA_URL = os.getenv('OLLAMA_URL')\n",
    "print(f\"Using Ollama server: {OLLAMA_URL if OLLAMA_URL else 'local'}\")"
   ]
  },
  {
   "cell_type": "markdown",
   "metadata": {},
   "source": [
    "## Excercise 01: Connect to an LLM\n",
    "\n",
    "Connect to an LLM and make a simple request (e..g translate a senetence)\n",
    "\n",
    "```\n",
    "Translate to French: I like coffee.\n",
    "```\n",
    "\n",
    "Take a look at the LLM parameters, and full response "
   ]
  },
  {
   "cell_type": "code",
   "execution_count": 8,
   "metadata": {},
   "outputs": [
    {
     "name": "stdout",
     "output_type": "stream",
     "text": [
      "Je aime le café.\n"
     ]
    }
   ],
   "source": [
    "# Create the LLM object\n",
    "llm = ChatOllama(model=MODEL, base_url=OLLAMA_URL)\n",
    "\n",
    "messages = \"Translate to French: I like coffee.\"\n",
    "\n",
    "# Invoke the LLM\n",
    "ret = llm.invoke(messages)\n",
    "print(ret.content)"
   ]
  },
  {
   "cell_type": "code",
   "execution_count": 9,
   "metadata": {},
   "outputs": [
    {
     "name": "stdout",
     "output_type": "stream",
     "text": [
      "{\n",
      "  \"content\": \"Je aime le café.\",\n",
      "  \"additional_kwargs\": {},\n",
      "  \"response_metadata\": {\n",
      "    \"model\": \"llama3.2\",\n",
      "    \"created_at\": \"2025-01-15T14:10:52.539095Z\",\n",
      "    \"done\": true,\n",
      "    \"done_reason\": \"stop\",\n",
      "    \"total_duration\": 209273167,\n",
      "    \"load_duration\": 31747209,\n",
      "    \"prompt_eval_count\": 33,\n",
      "    \"prompt_eval_duration\": 98000000,\n",
      "    \"eval_count\": 6,\n",
      "    \"eval_duration\": 78000000,\n",
      "    \"message\": {\n",
      "      \"role\": \"assistant\",\n",
      "      \"content\": \"\",\n",
      "      \"images\": null,\n",
      "      \"tool_calls\": null\n",
      "    }\n",
      "  },\n",
      "  \"type\": \"ai\",\n",
      "  \"name\": null,\n",
      "  \"id\": \"run-1316bc36-ec4a-4b68-b178-11c35fdb24dc-0\",\n",
      "  \"example\": false,\n",
      "  \"tool_calls\": [],\n",
      "  \"invalid_tool_calls\": [],\n",
      "  \"usage_metadata\": {\n",
      "    \"input_tokens\": 33,\n",
      "    \"output_tokens\": 6,\n",
      "    \"total_tokens\": 39\n",
      "  }\n",
      "}\n"
     ]
    }
   ],
   "source": [
    "# Show details of the response\n",
    "print(ret.model_dump_json(indent=2))"
   ]
  },
  {
   "cell_type": "code",
   "execution_count": null,
   "metadata": {},
   "outputs": [],
   "source": []
  },
  {
   "cell_type": "markdown",
   "metadata": {},
   "source": [
    "## Excercise 02: Prompt template"
   ]
  },
  {
   "cell_type": "code",
   "execution_count": null,
   "metadata": {},
   "outputs": [
    {
     "name": "stdout",
     "output_type": "stream",
     "text": [
      "Je aime le café.\n"
     ]
    }
   ],
   "source": [
    "# Create the LLM object\n",
    "llm = ChatOllama(model=MODEL, base_url=OLLAMA_URL)\n",
    "\n",
    "# Create a prompt from a template\n",
    "prompt_template = \"\"\"\n",
    "Translate to French:\n",
    "\n",
    "{sentence}\n",
    "\n",
    "\"\"\"\n",
    "\n",
    "# Create a prompt object from the string template\n",
    "prompt = PromptTemplate.from_template(prompt_template)\n",
    "\n",
    "\n",
    "# Create a \"chain\" of runnable objects\n",
    "runnable = prompt | llm\n",
    "\n",
    "# Invoke the 'runnable'\n",
    "ret = runnable.invoke({\"sentence\": \"I like coffee.\"})\n",
    "print(ret.content)"
   ]
  },
  {
   "cell_type": "markdown",
   "metadata": {},
   "source": [
    "## Excercise 03: Streaming"
   ]
  },
  {
   "cell_type": "code",
   "execution_count": 23,
   "metadata": {},
   "outputs": [
    {
     "name": "stdout",
     "output_type": "stream",
     "text": [
      "J'aime le café.\n",
      "----\n",
      "Received 7 blocks\n"
     ]
    }
   ],
   "source": [
    "# Create the LLM object\n",
    "llm = ChatOllama(model=MODEL, base_url=OLLAMA_URL)\n",
    "\n",
    "# Create a prompt from a template\n",
    "prompt_template = \"\"\"\n",
    "Translate to French:\n",
    "\n",
    "{sentence}\n",
    "\n",
    "\"\"\"\n",
    "\n",
    "# Create a prompt object from the string template\n",
    "prompt = PromptTemplate.from_template(prompt_template)\n",
    "\n",
    "\n",
    "# Create a \"chain\" of runnable objects\n",
    "runnable = prompt | llm\n",
    "\n",
    "# Invoke the 'runnable' as a stream, print each block as it arrives\n",
    "blocks = []\n",
    "for b in runnable.stream({\"sentence\": \"I like coffee.\"}):\n",
    "    print(b.content, end='')\n",
    "    blocks.append(b)\n",
    "\n",
    "print(f\"\\n----\\nReceived {len(blocks)} blocks\")"
   ]
  },
  {
   "cell_type": "code",
   "execution_count": 25,
   "metadata": {},
   "outputs": [
    {
     "name": "stdout",
     "output_type": "stream",
     "text": [
      "content='J' additional_kwargs={} response_metadata={} id='run-48b32f94-9df8-4b97-99ff-24133c3b54b9'\n"
     ]
    }
   ],
   "source": [
    "# What does a block look like\n",
    "print(blocks[0])"
   ]
  },
  {
   "cell_type": "code",
   "execution_count": null,
   "metadata": {},
   "outputs": [],
   "source": []
  }
 ],
 "metadata": {
  "kernelspec": {
   "display_name": ".venv",
   "language": "python",
   "name": "python3"
  },
  "language_info": {
   "codemirror_mode": {
    "name": "ipython",
    "version": 3
   },
   "file_extension": ".py",
   "mimetype": "text/x-python",
   "name": "python",
   "nbconvert_exporter": "python",
   "pygments_lexer": "ipython3",
   "version": "3.12.2"
  }
 },
 "nbformat": 4,
 "nbformat_minor": 2
}
