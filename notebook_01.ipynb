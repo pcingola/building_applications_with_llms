{
 "cells": [
  {
   "cell_type": "markdown",
   "metadata": {},
   "source": [
    "# Building LLM applications: Notebook 01"
   ]
  },
  {
   "cell_type": "markdown",
   "metadata": {},
   "source": [
    "## Initialize"
   ]
  },
  {
   "cell_type": "code",
   "execution_count": 6,
   "metadata": {},
   "outputs": [],
   "source": [
    "import os\n",
    "import dotenv\n",
    "\n",
    "from langchain_ollama import ChatOllama\n",
    "from langchain_core.prompts import PromptTemplate, ChatPromptTemplate"
   ]
  },
  {
   "cell_type": "code",
   "execution_count": 7,
   "metadata": {},
   "outputs": [],
   "source": [
    "MODEL = 'llama3.2'"
   ]
  },
  {
   "cell_type": "code",
   "execution_count": null,
   "metadata": {},
   "outputs": [],
   "source": [
    "# Read fro `.env` file\n",
    "dotenv.load_dotenv()\n",
    "\n",
    "OLLAMA_URL = os.getenv('OLLAMA_URL')\n",
    "print(f\"Using Ollama server: {OLLAMA_URL if OLLAMA_URL else 'local'}\")"
   ]
  },
  {
   "cell_type": "markdown",
   "metadata": {},
   "source": [
    "## Excercise 01: Connect to an LLM\n",
    "\n",
    "Connect to an LLM and make a simple request (e..g translate a senetence)\n",
    "\n",
    "```\n",
    "Translate to French: I like coffee.\n",
    "```\n",
    "\n",
    "Take a look at the LLM parameters, and full response "
   ]
  },
  {
   "cell_type": "code",
   "execution_count": null,
   "metadata": {},
   "outputs": [],
   "source": [
    "# Create the LLM object\n",
    "llm = ChatOllama(model=MODEL, base_url=OLLAMA_URL)\n",
    "\n",
    "messages = \"Translate to French: I like coffee.\"\n",
    "\n",
    "# Invoke the LLM\n",
    "ret = llm.invoke(messages)\n",
    "print(ret.content)"
   ]
  },
  {
   "cell_type": "code",
   "execution_count": null,
   "metadata": {},
   "outputs": [],
   "source": [
    "# Show details of the response\n",
    "print(ret.model_dump_json(indent=2))"
   ]
  },
  {
   "cell_type": "code",
   "execution_count": null,
   "metadata": {},
   "outputs": [],
   "source": []
  },
  {
   "cell_type": "markdown",
   "metadata": {},
   "source": [
    "## Excercise 02: Prompt template"
   ]
  },
  {
   "cell_type": "code",
   "execution_count": null,
   "metadata": {},
   "outputs": [],
   "source": [
    "# Create the LLM object\n",
    "llm = ChatOllama(model=MODEL, base_url=OLLAMA_URL)\n",
    "\n",
    "# Create a prompt from a template\n",
    "prompt_template = \"\"\"\n",
    "Translate to French:\n",
    "\n",
    "{sentence}\n",
    "\n",
    "\"\"\"\n",
    "\n",
    "# Create a prompt object from the string template\n",
    "prompt = PromptTemplate.from_template(prompt_template)\n",
    "\n",
    "\n",
    "# Create a \"chain\" of runnable objects\n",
    "runnable = prompt | llm\n",
    "\n",
    "# Invoke the 'runnable'\n",
    "ret = runnable.invoke({\"sentence\": \"I like coffee.\"})\n",
    "print(ret.content)"
   ]
  },
  {
   "cell_type": "markdown",
   "metadata": {},
   "source": [
    "## Excercise 03: Streaming"
   ]
  },
  {
   "cell_type": "code",
   "execution_count": null,
   "metadata": {},
   "outputs": [],
   "source": [
    "# Create the LLM object\n",
    "llm = ChatOllama(model=MODEL, base_url=OLLAMA_URL)\n",
    "\n",
    "# Create a prompt from a template\n",
    "prompt_template = \"\"\"\n",
    "Translate to French:\n",
    "\n",
    "{sentence}\n",
    "\n",
    "\"\"\"\n",
    "\n",
    "# Create a prompt object from the string template\n",
    "prompt = PromptTemplate.from_template(prompt_template)\n",
    "\n",
    "\n",
    "# Create a \"chain\" of runnable objects\n",
    "runnable = prompt | llm\n",
    "\n",
    "# Invoke the 'runnable' as a stream, print each block as it arrives\n",
    "blocks = []\n",
    "for b in runnable.stream({\"sentence\": \"I like coffee.\"}):\n",
    "    print(b.content, end='')\n",
    "    blocks.append(b)\n",
    "\n",
    "print(f\"\\n----\\nReceived {len(blocks)} blocks\")"
   ]
  },
  {
   "cell_type": "code",
   "execution_count": null,
   "metadata": {},
   "outputs": [],
   "source": [
    "# What does a block look like\n",
    "print(blocks[0])"
   ]
  },
  {
   "cell_type": "markdown",
   "metadata": {},
   "source": [
    "## Excercise 04: Roles"
   ]
  },
  {
   "cell_type": "code",
   "execution_count": null,
   "metadata": {},
   "outputs": [],
   "source": [
    "# Create the LLM object\n",
    "MODEL = 'llama3.2:3b-instruct-fp16'\n",
    "llm = ChatOllama(model=MODEL, base_url=OLLAMA_URL)\n",
    "\n",
    "messages = [\n",
    "    ('system', \"You are helping to translate the user's inputs from english to french\"),\n",
    "    ('human', \"I like coffee\")\n",
    "]\n",
    "\n",
    "ret = llm.invoke(messages)\n",
    "print(ret.content)"
   ]
  },
  {
   "cell_type": "markdown",
   "metadata": {},
   "source": [
    "## Excercise 04: Message prompt templates with roles"
   ]
  },
  {
   "cell_type": "code",
   "execution_count": null,
   "metadata": {},
   "outputs": [],
   "source": [
    "# Create the LLM object\n",
    "MODEL = 'llama3.2:3b-instruct-fp16'\n",
    "\n",
    "\n",
    "messages_template = [\n",
    "    ('system', \"You are helping to translate the user's inputs from English to {language}\"),\n",
    "    ('human', \"{sentence}\")\n",
    "]\n",
    "\n",
    "llm = ChatOllama(model=MODEL, base_url=OLLAMA_URL)\n",
    "prompt = ChatPromptTemplate.from_messages(messages=messages_template)\n",
    "runnable = prompt | llm\n",
    "\n",
    "# Run the 'runnable'\n",
    "ret = runnable.invoke({\"language\": \"French\", \"sentence\": \"I like coffee.\"})\n",
    "print(ret.content)"
   ]
  },
  {
   "cell_type": "markdown",
   "metadata": {},
   "source": [
    "## Excercise 05: Structured outputs in `system` prompt (JSON)"
   ]
  },
  {
   "cell_type": "code",
   "execution_count": null,
   "metadata": {},
   "outputs": [],
   "source": [
    "# Create the LLM object\n",
    "MODEL = 'llama3.2:3b-instruct-fp16'\n",
    "\n",
    "\n",
    "messages_template = [\n",
    "    ('system', \"Answer the user's question in JSON format\"),\n",
    "    ('human', \"{question}\")\n",
    "]\n",
    "\n",
    "llm = ChatOllama(model=MODEL, base_url=OLLAMA_URL)\n",
    "prompt = ChatPromptTemplate.from_messages(messages=messages_template)\n",
    "runnable = prompt | llm\n",
    "\n",
    "# Run the 'runnable'\n",
    "ret = runnable.invoke({\"question\": \"What are the top 3 most popular programming languages?\"})\n",
    "print(ret.content)"
   ]
  },
  {
   "cell_type": "markdown",
   "metadata": {},
   "source": [
    "## Excercise 06: Structured outputs (`format=\"JSON\"`)"
   ]
  },
  {
   "cell_type": "code",
   "execution_count": null,
   "metadata": {},
   "outputs": [],
   "source": [
    "# Create the LLM object\n",
    "MODEL = 'llama3.2:3b-instruct-fp16'\n",
    "\n",
    "\n",
    "prompt_template = \"\"\"\n",
    "Please answer the following question:\n",
    "\n",
    "{question}\n",
    "\n",
    "\"\"\"\n",
    "\n",
    "llm = ChatOllama(model=MODEL\n",
    "                 , base_url=OLLAMA_URL\n",
    "                 , format=\"json\"        # Set the format to JSON\n",
    "                 )\n",
    "prompt = PromptTemplate.from_template(prompt_template)\n",
    "runnable = prompt | llm\n",
    "\n",
    "# Run the 'runnable'\n",
    "ret = runnable.invoke({\"question\": \"What are the top 3 most popular programming languages?\"})\n",
    "print(ret.content)"
   ]
  },
  {
   "cell_type": "markdown",
   "metadata": {},
   "source": [
    "## Excercise 06: Structured outputs (Pydantic model)"
   ]
  },
  {
   "cell_type": "code",
   "execution_count": null,
   "metadata": {},
   "outputs": [],
   "source": [
    "# Create the LLM object\n",
    "from pydantic import BaseModel\n",
    "from enum import Enum\n",
    "\n",
    "\n",
    "class LanguageType(Enum):\n",
    "    COMPILED = \"compiled\"\n",
    "    INTERPRETED = \"interpreted\"\n",
    "\n",
    "\n",
    "class ProgrammingLanguage(BaseModel):\n",
    "    rank: int\n",
    "    name: str\n",
    "    type: LanguageType\n",
    "\n",
    "\n",
    "class ProgrammingLanguages(BaseModel):\n",
    "    languages: list[ProgrammingLanguage]\n",
    "\n",
    "\n",
    "ProgrammingLanguages.model_json_schema()"
   ]
  },
  {
   "cell_type": "code",
   "execution_count": null,
   "metadata": {},
   "outputs": [],
   "source": [
    "MODEL = 'llama3.2:3b-instruct-fp16'\n",
    "\n",
    "\n",
    "prompt_template = \"\"\"\n",
    "Please answer the following question:\n",
    "\n",
    "{question}\n",
    "\n",
    "\"\"\"\n",
    "\n",
    "llm = ChatOllama(model=MODEL\n",
    "                 , base_url=OLLAMA_URL\n",
    "                 , format=ProgrammingLanguages.model_json_schema()  # Set the format usning a Pydantic Schema                 )\n",
    "prompt = PromptTemplate.from_template(prompt_template)\n",
    "runnable = prompt | llm\n",
    "\n",
    "# Run the 'runnable'\n",
    "ret = runnable.invoke({\"question\": \"What are the top 3 most popular programming languages?\"})\n",
    "\n",
    "content = ret.content\n",
    "print(f\"Content type: {type(content)}\\n\")"
   ]
  },
  {
   "cell_type": "code",
   "execution_count": null,
   "metadata": {},
   "outputs": [],
   "source": [
    "type(ret.content)"
   ]
  },
  {
   "cell_type": "code",
   "execution_count": null,
   "metadata": {},
   "outputs": [],
   "source": []
  }
 ],
 "metadata": {
  "kernelspec": {
   "display_name": ".venv",
   "language": "python",
   "name": "python3"
  },
  "language_info": {
   "codemirror_mode": {
    "name": "ipython",
    "version": 3
   },
   "file_extension": ".py",
   "mimetype": "text/x-python",
   "name": "python",
   "nbconvert_exporter": "python",
   "pygments_lexer": "ipython3",
   "version": "3.12.2"
  }
 },
 "nbformat": 4,
 "nbformat_minor": 2
}
