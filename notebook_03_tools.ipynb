{
 "cells": [
  {
   "cell_type": "markdown",
   "metadata": {},
   "source": [
    "# Building LLM applications: Notebook 03\n",
    "\n",
    "# Tools"
   ]
  },
  {
   "cell_type": "markdown",
   "metadata": {},
   "source": [
    "## Initialize"
   ]
  },
  {
   "cell_type": "code",
   "execution_count": 1,
   "metadata": {},
   "outputs": [],
   "source": [
    "import os\n",
    "import dotenv\n",
    "import json\n",
    "\n",
    "from langchain_core.messages import HumanMessage\n",
    "from langchain_core.prompts import PromptTemplate\n",
    "from langchain_core.runnables import Runnable, RunnablePassthrough\n",
    "from langchain_core.tools import tool\n",
    "\n",
    "from langchain.agents.output_parsers.react_single_input import ReActSingleInputOutputParser\n",
    "\n",
    "from langchain_ollama import ChatOllama"
   ]
  },
  {
   "cell_type": "code",
   "execution_count": 2,
   "metadata": {},
   "outputs": [],
   "source": [
    "MODEL = 'llama3.2:3b-instruct-fp16'"
   ]
  },
  {
   "cell_type": "code",
   "execution_count": null,
   "metadata": {},
   "outputs": [],
   "source": [
    "# Read fro `.env` file\n",
    "dotenv.load_dotenv()\n",
    "\n",
    "OLLAMA_URL = os.getenv('OLLAMA_URL')\n",
    "print(f\"Using Ollama server: {OLLAMA_URL if OLLAMA_URL else 'local'}\")"
   ]
  },
  {
   "cell_type": "markdown",
   "metadata": {},
   "source": [
    "## Calling tools manually"
   ]
  },
  {
   "cell_type": "markdown",
   "metadata": {},
   "source": [
    "### Step 1: Creat tools"
   ]
  },
  {
   "cell_type": "code",
   "execution_count": null,
   "metadata": {},
   "outputs": [],
   "source": [
    "@tool\n",
    "def add(a: int, b: int) -> int:\n",
    "    \"\"\"Add two numbers\"\"\"\n",
    "    print(f\"Adding {a} + {b}\")\n",
    "    return a + b\n",
    "\n",
    "\n",
    "@tool\n",
    "def sub(a: int, b: int) -> int:\n",
    "    \"\"\"Substract two numbers\"\"\"\n",
    "    print(f\"Substracting {a} - {b}\")\n",
    "    return a - b\n",
    "\n",
    "\n",
    "tools = [add, sub]\n",
    "\n",
    "tools_map = {t.name.lower(): t for t in tools}\n",
    "tools_map"
   ]
  },
  {
   "cell_type": "code",
   "execution_count": 14,
   "metadata": {},
   "outputs": [],
   "source": [
    "def invoke_tool(llm_response, tools_map):\n",
    "    \"\"\"\n",
    "    Call the tools, resurn a list of \"tools results\"\"\n",
    "    \"\"\"\n",
    "    tool_msgs = []\n",
    "    for tool_call in llm_response.tool_calls:\n",
    "        tool_name = tool_call['name'].lower()\n",
    "        tool = tools_map.get(tool_name)\n",
    "        if tool:\n",
    "            tool_msg = tool.invoke(tool_call)\n",
    "            print(tool_msg)\n",
    "        print(f\"Tool result: {tool_msg}\")\n",
    "        tool_msgs.append(tool_msg)\n",
    "    return tool_msgs"
   ]
  },
  {
   "cell_type": "markdown",
   "metadata": {},
   "source": [
    "### Step 3: Bind tools to the LLM, invoke it"
   ]
  },
  {
   "cell_type": "code",
   "execution_count": null,
   "metadata": {},
   "outputs": [],
   "source": [
    "query = \"What is the addition of 40 and 2?\"\n",
    "message = HumanMessage(query)\n",
    "messages = [message]                # The list of messages to send to the LLM, now is only one message\n"
   ]
  },
  {
   "cell_type": "code",
   "execution_count": 13,
   "metadata": {},
   "outputs": [],
   "source": [
    "# ADD YOUR CODE HERE\n",
    "# Create a runnable to send the messages to the LLM\n",
    "#\n",
    "#"
   ]
  },
  {
   "cell_type": "markdown",
   "metadata": {},
   "source": [
    "### Step 4: Call the tools (as specifief in the LLM response)"
   ]
  },
  {
   "cell_type": "code",
   "execution_count": 11,
   "metadata": {},
   "outputs": [],
   "source": [
    "# ADD CODE HERE\n",
    "# Invoke the tool/s and add the 'tool results' to the messages list\n",
    "# You can use the function invoke_tool(..)\n",
    "#"
   ]
  },
  {
   "cell_type": "markdown",
   "metadata": {},
   "source": [
    "### Step 5: Append the tool's output, invoke the LLM again"
   ]
  },
  {
   "cell_type": "code",
   "execution_count": 15,
   "metadata": {},
   "outputs": [],
   "source": [
    "# ADD YOUR CODE HERE\n",
    "# Invoke the LLM with the messages (including the tool results)\n",
    "#\n",
    "#"
   ]
  }
 ],
 "metadata": {
  "kernelspec": {
   "display_name": ".venv",
   "language": "python",
   "name": "python3"
  },
  "language_info": {
   "codemirror_mode": {
    "name": "ipython",
    "version": 3
   },
   "file_extension": ".py",
   "mimetype": "text/x-python",
   "name": "python",
   "nbconvert_exporter": "python",
   "pygments_lexer": "ipython3",
   "version": "3.12.2"
  }
 },
 "nbformat": 4,
 "nbformat_minor": 2
}
